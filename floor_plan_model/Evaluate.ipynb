{
 "cells": [
  {
   "cell_type": "code",
   "execution_count": null,
   "metadata": {},
   "outputs": [],
   "source": [
    "import scores"
   ]
  },
  {
   "cell_type": "code",
   "execution_count": null,
   "metadata": {},
   "outputs": [],
   "source": [
    "baseDirectory = '/d2/studies/TF2DeepFloorplan/'\n",
    "benchmark_path='/d2/studies/TF2DeepFloorplan/dataset/r3d_train.txt'\n",
    "result_dir='/d2/studies/TF2DeepFloorplan/outJan19_TFR5_lr5e-4_ss25_RGB/0/' #change this to outdir of training"
   ]
  },
  {
   "cell_type": "code",
   "execution_count": null,
   "metadata": {},
   "outputs": [],
   "source": [
    "scores.evaluateBounds_euclidean(benchmark_path, result_dir, suffix='Jan19Epoch250', im_resize=True, gt_resize=True, train=True)"
   ]
  },
  {
   "cell_type": "code",
   "execution_count": null,
   "metadata": {},
   "outputs": [],
   "source": [
    "scores.evaluateBounds_cosine(benchmark_path, result_dir, suffix='Jan19Epoch250', im_resize=True, gt_resize=True, train=True)"
   ]
  },
  {
   "cell_type": "code",
   "execution_count": null,
   "metadata": {},
   "outputs": [],
   "source": [
    "scores.evaluateRooms_cosine(benchmark_path, result_dir, suffix='Jan19Epoch250', im_resize=True, gt_resize=True, train=True)"
   ]
  },
  {
   "cell_type": "code",
   "execution_count": null,
   "metadata": {},
   "outputs": [],
   "source": [
    "scores.evaluateBounds_pairWiseDistance(benchmark_path, result_dir, suffix='Jan19Epoch0', im_resize=True, gt_resize=True, train=True)"
   ]
  },
  {
   "cell_type": "code",
   "execution_count": null,
   "metadata": {},
   "outputs": [],
   "source": []
  }
 ],
 "metadata": {
  "kernelspec": {
   "display_name": "Python 3",
   "language": "python",
   "name": "python3"
  },
  "language_info": {
   "codemirror_mode": {
    "name": "ipython",
    "version": 3
   },
   "file_extension": ".py",
   "mimetype": "text/x-python",
   "name": "python",
   "nbconvert_exporter": "python",
   "pygments_lexer": "ipython3",
   "version": "3.7.4"
  }
 },
 "nbformat": 4,
 "nbformat_minor": 4
}
