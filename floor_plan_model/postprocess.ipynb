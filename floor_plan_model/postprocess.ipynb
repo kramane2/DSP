{
 "cells": [
  {
   "cell_type": "code",
   "execution_count": 5,
   "metadata": {},
   "outputs": [],
   "source": [
    "import argparse\n",
    "\n",
    "import os\n",
    "import sys\n",
    "import glob\n",
    "import time\n",
    "import random\n",
    "\n",
    "import numpy as np\n",
    "#from scipy.misc import imread, imresize, imsave\n",
    "from skimage.io import imread, imsave\n",
    "from skimage.transform import resize as imresize\n",
    "from matplotlib import pyplot as plt\n",
    "\n",
    "from utils.rgb_ind_convertor import *\n",
    "from utils.util import *"
   ]
  },
  {
   "cell_type": "code",
   "execution_count": 12,
   "metadata": {},
   "outputs": [],
   "source": [
    "def post_process(input_dir, save_dir, merge=True):\n",
    "\tif not os.path.exists(save_dir):\n",
    "\t\tos.mkdir(save_dir)\n",
    "\n",
    "\tinput_paths = sorted(glob.glob(os.path.join(input_dir, '*.png')))\n",
    "\tinputs = []\n",
    "\tfor i in input_paths:\n",
    "\t\tif not i.endswith('image.png'):\n",
    "\t\t\tinputs.append(i)\n",
    "\tnames = [i.split('/')[-1] for i in input_paths]\n",
    "\tout_paths = [os.path.join(save_dir, i) for i in names]\n",
    "\n",
    "\tn = len(inputs)\n",
    "\t# n = 1\n",
    "\tfor i in range(n):\n",
    "\t\tim = imread(inputs[i], pilmode='RGB')\n",
    "\t\tim_ind = rgb2ind(im, color_map=floorplan_fuse_map)\n",
    "\t\t# seperate image into room-seg & boundary-seg\n",
    "\t\trm_ind = im_ind.copy()\n",
    "\t\trm_ind[im_ind==9] = 0\n",
    "\t\trm_ind[im_ind==10] = 0\n",
    "\n",
    "\t\tbd_ind = np.zeros(im_ind.shape, dtype=np.uint8)\n",
    "\t\tbd_ind[im_ind==9] = 9\n",
    "\t\tbd_ind[im_ind==10] = 10\n",
    "\n",
    "\t\thard_c = (bd_ind>0).astype(np.uint8)\n",
    "\n",
    "\t\t# region from room prediction it self\n",
    "\t\trm_mask = np.zeros(rm_ind.shape)\n",
    "\t\trm_mask[rm_ind>0] = 1\t\t\t\n",
    "\t\t# region from close_wall line\t\t\n",
    "\t\tcw_mask = hard_c\n",
    "\t\t# refine close wall mask by filling the grap between bright line\t\n",
    "\t\tcw_mask = fill_break_line(cw_mask)\n",
    "\t\t\t\n",
    "\t\tfuse_mask = cw_mask + rm_mask\n",
    "\t\tfuse_mask[fuse_mask>=1] = 255\n",
    "\n",
    "\t\t# refine fuse mask by filling the hole\n",
    "\t\tfuse_mask = flood_fill(fuse_mask)\n",
    "\t\tfuse_mask = fuse_mask // 255\t\n",
    "\n",
    "\t\t# one room one label\n",
    "\t\tnew_rm_ind = refine_room_region(cw_mask, rm_ind)\n",
    "\n",
    "\t\t# ignore the background mislabeling\n",
    "\t\tnew_rm_ind = fuse_mask*new_rm_ind\n",
    "\n",
    "\t\tprint('Saving {}th refined room prediciton to {}'.format(i, out_paths[i]))\n",
    "\t\tif merge:\n",
    "\t\t\tnew_rm_ind[bd_ind==9] = 9\n",
    "\t\t\tnew_rm_ind[bd_ind==10] = 10\n",
    "\t\t\trgb = ind2rgb(new_rm_ind, color_map=floorplan_fuse_map)\n",
    "\t\telse:\n",
    "\t\t\trgb = ind2rgb(new_rm_ind)\n",
    "\t\timsave(out_paths[i], rgb)\n",
    "\n"
   ]
  },
  {
   "cell_type": "code",
   "execution_count": 13,
   "metadata": {},
   "outputs": [],
   "source": [
    "input_dir = '/d2/studies/TF2DeepFloorplan/outJan5/'\n",
    "save_dir = '/d2/studies/TF2DeepFloorplan/dataset/results/'"
   ]
  },
  {
   "cell_type": "code",
   "execution_count": 14,
   "metadata": {},
   "outputs": [
    {
     "name": "stderr",
     "output_type": "stream",
     "text": [
      "Lossy conversion from float64 to uint8. Range [0.0, 255.0]. Convert image to uint8 prior to saving to suppress this warning.\n",
      "/home/smith/anaconda3/envs/dfp/lib/python3.7/site-packages/ipykernel_launcher.py:57: UserWarning: /d2/studies/TF2DeepFloorplan/dataset/results/0_bounds.png is a low contrast image\n",
      "Lossy conversion from float64 to uint8. Range [0, 1]. Convert image to uint8 prior to saving to suppress this warning.\n",
      "/home/smith/anaconda3/envs/dfp/lib/python3.7/site-packages/ipykernel_launcher.py:57: UserWarning: /d2/studies/TF2DeepFloorplan/dataset/results/0_image.png is a low contrast image\n",
      "Lossy conversion from float64 to uint8. Range [0, 1]. Convert image to uint8 prior to saving to suppress this warning.\n",
      "/home/smith/anaconda3/envs/dfp/lib/python3.7/site-packages/ipykernel_launcher.py:57: UserWarning: /d2/studies/TF2DeepFloorplan/dataset/results/0_logcw.png is a low contrast image\n",
      "Lossy conversion from float64 to uint8. Range [0, 1]. Convert image to uint8 prior to saving to suppress this warning.\n",
      "/home/smith/anaconda3/envs/dfp/lib/python3.7/site-packages/ipykernel_launcher.py:57: UserWarning: /d2/studies/TF2DeepFloorplan/dataset/results/0_logr.png is a low contrast image\n",
      "Lossy conversion from float64 to uint8. Range [0, 1]. Convert image to uint8 prior to saving to suppress this warning.\n",
      "Lossy conversion from float64 to uint8. Range [0.0, 255.0]. Convert image to uint8 prior to saving to suppress this warning.\n"
     ]
    },
    {
     "name": "stdout",
     "output_type": "stream",
     "text": [
      "Saving 0th refined room prediciton to /d2/studies/TF2DeepFloorplan/dataset/results/0.png\n",
      "Saving 1th refined room prediciton to /d2/studies/TF2DeepFloorplan/dataset/results/0_bounds.png\n",
      "Saving 2th refined room prediciton to /d2/studies/TF2DeepFloorplan/dataset/results/0_image.png\n",
      "Saving 3th refined room prediciton to /d2/studies/TF2DeepFloorplan/dataset/results/0_logcw.png\n",
      "Saving 4th refined room prediciton to /d2/studies/TF2DeepFloorplan/dataset/results/0_logr.png\n",
      "Saving 5th refined room prediciton to /d2/studies/TF2DeepFloorplan/dataset/results/0_rooms.png\n"
     ]
    },
    {
     "name": "stderr",
     "output_type": "stream",
     "text": [
      "/home/smith/anaconda3/envs/dfp/lib/python3.7/site-packages/ipykernel_launcher.py:57: UserWarning: /d2/studies/TF2DeepFloorplan/dataset/results/10.png is a low contrast image\n",
      "Lossy conversion from float64 to uint8. Range [0, 1]. Convert image to uint8 prior to saving to suppress this warning.\n",
      "/home/smith/anaconda3/envs/dfp/lib/python3.7/site-packages/ipykernel_launcher.py:57: UserWarning: /d2/studies/TF2DeepFloorplan/dataset/results/10_bounds.png is a low contrast image\n",
      "Lossy conversion from float64 to uint8. Range [0, 1]. Convert image to uint8 prior to saving to suppress this warning.\n",
      "/home/smith/anaconda3/envs/dfp/lib/python3.7/site-packages/ipykernel_launcher.py:57: UserWarning: /d2/studies/TF2DeepFloorplan/dataset/results/10_image.png is a low contrast image\n",
      "Lossy conversion from float64 to uint8. Range [0, 1]. Convert image to uint8 prior to saving to suppress this warning.\n",
      "/home/smith/anaconda3/envs/dfp/lib/python3.7/site-packages/ipykernel_launcher.py:57: UserWarning: /d2/studies/TF2DeepFloorplan/dataset/results/10_logcw.png is a low contrast image\n",
      "Lossy conversion from float64 to uint8. Range [0, 1]. Convert image to uint8 prior to saving to suppress this warning.\n",
      "Lossy conversion from float64 to uint8. Range [0.0, 255.0]. Convert image to uint8 prior to saving to suppress this warning.\n",
      "/home/smith/anaconda3/envs/dfp/lib/python3.7/site-packages/ipykernel_launcher.py:57: UserWarning: /d2/studies/TF2DeepFloorplan/dataset/results/10_rooms.png is a low contrast image\n",
      "Lossy conversion from float64 to uint8. Range [0, 1]. Convert image to uint8 prior to saving to suppress this warning.\n",
      "/home/smith/anaconda3/envs/dfp/lib/python3.7/site-packages/ipykernel_launcher.py:57: UserWarning: /d2/studies/TF2DeepFloorplan/dataset/results/20.png is a low contrast image\n",
      "Lossy conversion from float64 to uint8. Range [0, 1]. Convert image to uint8 prior to saving to suppress this warning.\n"
     ]
    },
    {
     "name": "stdout",
     "output_type": "stream",
     "text": [
      "Saving 6th refined room prediciton to /d2/studies/TF2DeepFloorplan/dataset/results/10.png\n",
      "Saving 7th refined room prediciton to /d2/studies/TF2DeepFloorplan/dataset/results/10_bounds.png\n",
      "Saving 8th refined room prediciton to /d2/studies/TF2DeepFloorplan/dataset/results/10_image.png\n",
      "Saving 9th refined room prediciton to /d2/studies/TF2DeepFloorplan/dataset/results/10_logcw.png\n",
      "Saving 10th refined room prediciton to /d2/studies/TF2DeepFloorplan/dataset/results/10_logr.png\n",
      "Saving 11th refined room prediciton to /d2/studies/TF2DeepFloorplan/dataset/results/10_rooms.png\n",
      "Saving 12th refined room prediciton to /d2/studies/TF2DeepFloorplan/dataset/results/20.png\n"
     ]
    },
    {
     "name": "stderr",
     "output_type": "stream",
     "text": [
      "/home/smith/anaconda3/envs/dfp/lib/python3.7/site-packages/ipykernel_launcher.py:57: UserWarning: /d2/studies/TF2DeepFloorplan/dataset/results/20_bounds.png is a low contrast image\n",
      "Lossy conversion from float64 to uint8. Range [0, 1]. Convert image to uint8 prior to saving to suppress this warning.\n",
      "/home/smith/anaconda3/envs/dfp/lib/python3.7/site-packages/ipykernel_launcher.py:57: UserWarning: /d2/studies/TF2DeepFloorplan/dataset/results/20_image.png is a low contrast image\n",
      "Lossy conversion from float64 to uint8. Range [0, 1]. Convert image to uint8 prior to saving to suppress this warning.\n",
      "Lossy conversion from float64 to uint8. Range [0.0, 255.0]. Convert image to uint8 prior to saving to suppress this warning.\n",
      "/home/smith/anaconda3/envs/dfp/lib/python3.7/site-packages/ipykernel_launcher.py:57: UserWarning: /d2/studies/TF2DeepFloorplan/dataset/results/20_logr.png is a low contrast image\n",
      "Lossy conversion from float64 to uint8. Range [0, 1]. Convert image to uint8 prior to saving to suppress this warning.\n",
      "/home/smith/anaconda3/envs/dfp/lib/python3.7/site-packages/ipykernel_launcher.py:57: UserWarning: /d2/studies/TF2DeepFloorplan/dataset/results/20_rooms.png is a low contrast image\n",
      "Lossy conversion from float64 to uint8. Range [0, 1]. Convert image to uint8 prior to saving to suppress this warning.\n",
      "/home/smith/anaconda3/envs/dfp/lib/python3.7/site-packages/ipykernel_launcher.py:57: UserWarning: /d2/studies/TF2DeepFloorplan/dataset/results/30.png is a low contrast image\n",
      "Lossy conversion from float64 to uint8. Range [0, 1]. Convert image to uint8 prior to saving to suppress this warning.\n",
      "/home/smith/anaconda3/envs/dfp/lib/python3.7/site-packages/ipykernel_launcher.py:57: UserWarning: /d2/studies/TF2DeepFloorplan/dataset/results/30_bounds.png is a low contrast image\n",
      "Lossy conversion from float64 to uint8. Range [0, 1]. Convert image to uint8 prior to saving to suppress this warning.\n"
     ]
    },
    {
     "name": "stdout",
     "output_type": "stream",
     "text": [
      "Saving 13th refined room prediciton to /d2/studies/TF2DeepFloorplan/dataset/results/20_bounds.png\n",
      "Saving 14th refined room prediciton to /d2/studies/TF2DeepFloorplan/dataset/results/20_image.png\n",
      "Saving 15th refined room prediciton to /d2/studies/TF2DeepFloorplan/dataset/results/20_logcw.png\n",
      "Saving 16th refined room prediciton to /d2/studies/TF2DeepFloorplan/dataset/results/20_logr.png\n",
      "Saving 17th refined room prediciton to /d2/studies/TF2DeepFloorplan/dataset/results/20_rooms.png\n",
      "Saving 18th refined room prediciton to /d2/studies/TF2DeepFloorplan/dataset/results/30.png\n",
      "Saving 19th refined room prediciton to /d2/studies/TF2DeepFloorplan/dataset/results/30_bounds.png\n"
     ]
    },
    {
     "name": "stderr",
     "output_type": "stream",
     "text": [
      "Lossy conversion from float64 to uint8. Range [0.0, 255.0]. Convert image to uint8 prior to saving to suppress this warning.\n",
      "/home/smith/anaconda3/envs/dfp/lib/python3.7/site-packages/ipykernel_launcher.py:57: UserWarning: /d2/studies/TF2DeepFloorplan/dataset/results/30_logcw.png is a low contrast image\n",
      "Lossy conversion from float64 to uint8. Range [0, 1]. Convert image to uint8 prior to saving to suppress this warning.\n",
      "/home/smith/anaconda3/envs/dfp/lib/python3.7/site-packages/ipykernel_launcher.py:57: UserWarning: /d2/studies/TF2DeepFloorplan/dataset/results/30_logr.png is a low contrast image\n",
      "Lossy conversion from float64 to uint8. Range [0, 1]. Convert image to uint8 prior to saving to suppress this warning.\n",
      "/home/smith/anaconda3/envs/dfp/lib/python3.7/site-packages/ipykernel_launcher.py:57: UserWarning: /d2/studies/TF2DeepFloorplan/dataset/results/30_rooms.png is a low contrast image\n",
      "Lossy conversion from float64 to uint8. Range [0, 1]. Convert image to uint8 prior to saving to suppress this warning.\n",
      "/home/smith/anaconda3/envs/dfp/lib/python3.7/site-packages/ipykernel_launcher.py:57: UserWarning: /d2/studies/TF2DeepFloorplan/dataset/results/40.png is a low contrast image\n",
      "Lossy conversion from float64 to uint8. Range [0, 1]. Convert image to uint8 prior to saving to suppress this warning.\n",
      "Lossy conversion from float64 to uint8. Range [0.0, 255.0]. Convert image to uint8 prior to saving to suppress this warning.\n",
      "/home/smith/anaconda3/envs/dfp/lib/python3.7/site-packages/ipykernel_launcher.py:57: UserWarning: /d2/studies/TF2DeepFloorplan/dataset/results/40_image.png is a low contrast image\n",
      "Lossy conversion from float64 to uint8. Range [0, 1]. Convert image to uint8 prior to saving to suppress this warning.\n"
     ]
    },
    {
     "name": "stdout",
     "output_type": "stream",
     "text": [
      "Saving 20th refined room prediciton to /d2/studies/TF2DeepFloorplan/dataset/results/30_image.png\n",
      "Saving 21th refined room prediciton to /d2/studies/TF2DeepFloorplan/dataset/results/30_logcw.png\n",
      "Saving 22th refined room prediciton to /d2/studies/TF2DeepFloorplan/dataset/results/30_logr.png\n",
      "Saving 23th refined room prediciton to /d2/studies/TF2DeepFloorplan/dataset/results/30_rooms.png\n",
      "Saving 24th refined room prediciton to /d2/studies/TF2DeepFloorplan/dataset/results/40.png\n",
      "Saving 25th refined room prediciton to /d2/studies/TF2DeepFloorplan/dataset/results/40_bounds.png\n",
      "Saving 26th refined room prediciton to /d2/studies/TF2DeepFloorplan/dataset/results/40_image.png\n"
     ]
    },
    {
     "name": "stderr",
     "output_type": "stream",
     "text": [
      "/home/smith/anaconda3/envs/dfp/lib/python3.7/site-packages/ipykernel_launcher.py:57: UserWarning: /d2/studies/TF2DeepFloorplan/dataset/results/40_logcw.png is a low contrast image\n",
      "Lossy conversion from float64 to uint8. Range [0, 1]. Convert image to uint8 prior to saving to suppress this warning.\n",
      "/home/smith/anaconda3/envs/dfp/lib/python3.7/site-packages/ipykernel_launcher.py:57: UserWarning: /d2/studies/TF2DeepFloorplan/dataset/results/40_logr.png is a low contrast image\n",
      "Lossy conversion from float64 to uint8. Range [0, 1]. Convert image to uint8 prior to saving to suppress this warning.\n",
      "/home/smith/anaconda3/envs/dfp/lib/python3.7/site-packages/ipykernel_launcher.py:57: UserWarning: /d2/studies/TF2DeepFloorplan/dataset/results/40_rooms.png is a low contrast image\n",
      "Lossy conversion from float64 to uint8. Range [0, 1]. Convert image to uint8 prior to saving to suppress this warning.\n",
      "Lossy conversion from float64 to uint8. Range [0.0, 255.0]. Convert image to uint8 prior to saving to suppress this warning.\n",
      "/home/smith/anaconda3/envs/dfp/lib/python3.7/site-packages/ipykernel_launcher.py:57: UserWarning: /d2/studies/TF2DeepFloorplan/dataset/results/50_bounds.png is a low contrast image\n",
      "Lossy conversion from float64 to uint8. Range [0, 1]. Convert image to uint8 prior to saving to suppress this warning.\n",
      "/home/smith/anaconda3/envs/dfp/lib/python3.7/site-packages/ipykernel_launcher.py:57: UserWarning: /d2/studies/TF2DeepFloorplan/dataset/results/50_image.png is a low contrast image\n",
      "Lossy conversion from float64 to uint8. Range [0, 1]. Convert image to uint8 prior to saving to suppress this warning.\n",
      "/home/smith/anaconda3/envs/dfp/lib/python3.7/site-packages/ipykernel_launcher.py:57: UserWarning: /d2/studies/TF2DeepFloorplan/dataset/results/50_logcw.png is a low contrast image\n",
      "Lossy conversion from float64 to uint8. Range [0, 1]. Convert image to uint8 prior to saving to suppress this warning.\n"
     ]
    },
    {
     "name": "stdout",
     "output_type": "stream",
     "text": [
      "Saving 27th refined room prediciton to /d2/studies/TF2DeepFloorplan/dataset/results/40_logcw.png\n",
      "Saving 28th refined room prediciton to /d2/studies/TF2DeepFloorplan/dataset/results/40_logr.png\n",
      "Saving 29th refined room prediciton to /d2/studies/TF2DeepFloorplan/dataset/results/40_rooms.png\n",
      "Saving 30th refined room prediciton to /d2/studies/TF2DeepFloorplan/dataset/results/50.png\n",
      "Saving 31th refined room prediciton to /d2/studies/TF2DeepFloorplan/dataset/results/50_bounds.png\n",
      "Saving 32th refined room prediciton to /d2/studies/TF2DeepFloorplan/dataset/results/50_image.png\n",
      "Saving 33th refined room prediciton to /d2/studies/TF2DeepFloorplan/dataset/results/50_logcw.png\n",
      "Saving 34th refined room prediciton to /d2/studies/TF2DeepFloorplan/dataset/results/50_logr.png\n"
     ]
    },
    {
     "name": "stderr",
     "output_type": "stream",
     "text": [
      "/home/smith/anaconda3/envs/dfp/lib/python3.7/site-packages/ipykernel_launcher.py:57: UserWarning: /d2/studies/TF2DeepFloorplan/dataset/results/50_logr.png is a low contrast image\n",
      "Lossy conversion from float64 to uint8. Range [0, 1]. Convert image to uint8 prior to saving to suppress this warning.\n",
      "Lossy conversion from float64 to uint8. Range [0.0, 255.0]. Convert image to uint8 prior to saving to suppress this warning.\n",
      "/home/smith/anaconda3/envs/dfp/lib/python3.7/site-packages/ipykernel_launcher.py:57: UserWarning: /d2/studies/TF2DeepFloorplan/dataset/results/60.png is a low contrast image\n",
      "Lossy conversion from float64 to uint8. Range [0, 1]. Convert image to uint8 prior to saving to suppress this warning.\n",
      "/home/smith/anaconda3/envs/dfp/lib/python3.7/site-packages/ipykernel_launcher.py:57: UserWarning: /d2/studies/TF2DeepFloorplan/dataset/results/60_bounds.png is a low contrast image\n",
      "Lossy conversion from float64 to uint8. Range [0, 1]. Convert image to uint8 prior to saving to suppress this warning.\n",
      "/home/smith/anaconda3/envs/dfp/lib/python3.7/site-packages/ipykernel_launcher.py:57: UserWarning: /d2/studies/TF2DeepFloorplan/dataset/results/60_image.png is a low contrast image\n",
      "Lossy conversion from float64 to uint8. Range [0, 1]. Convert image to uint8 prior to saving to suppress this warning.\n",
      "/home/smith/anaconda3/envs/dfp/lib/python3.7/site-packages/ipykernel_launcher.py:57: UserWarning: /d2/studies/TF2DeepFloorplan/dataset/results/60_logcw.png is a low contrast image\n",
      "Lossy conversion from float64 to uint8. Range [0, 1]. Convert image to uint8 prior to saving to suppress this warning.\n",
      "Lossy conversion from float64 to uint8. Range [0.0, 255.0]. Convert image to uint8 prior to saving to suppress this warning.\n",
      "/home/smith/anaconda3/envs/dfp/lib/python3.7/site-packages/ipykernel_launcher.py:57: UserWarning: /d2/studies/TF2DeepFloorplan/dataset/results/60_rooms.png is a low contrast image\n",
      "Lossy conversion from float64 to uint8. Range [0, 1]. Convert image to uint8 prior to saving to suppress this warning.\n"
     ]
    },
    {
     "name": "stdout",
     "output_type": "stream",
     "text": [
      "Saving 35th refined room prediciton to /d2/studies/TF2DeepFloorplan/dataset/results/50_rooms.png\n",
      "Saving 36th refined room prediciton to /d2/studies/TF2DeepFloorplan/dataset/results/60.png\n",
      "Saving 37th refined room prediciton to /d2/studies/TF2DeepFloorplan/dataset/results/60_bounds.png\n",
      "Saving 38th refined room prediciton to /d2/studies/TF2DeepFloorplan/dataset/results/60_image.png\n",
      "Saving 39th refined room prediciton to /d2/studies/TF2DeepFloorplan/dataset/results/60_logcw.png\n",
      "Saving 40th refined room prediciton to /d2/studies/TF2DeepFloorplan/dataset/results/60_logr.png\n",
      "Saving 41th refined room prediciton to /d2/studies/TF2DeepFloorplan/dataset/results/60_rooms.png\n"
     ]
    },
    {
     "name": "stderr",
     "output_type": "stream",
     "text": [
      "/home/smith/anaconda3/envs/dfp/lib/python3.7/site-packages/ipykernel_launcher.py:57: UserWarning: /d2/studies/TF2DeepFloorplan/dataset/results/70.png is a low contrast image\n",
      "Lossy conversion from float64 to uint8. Range [0, 1]. Convert image to uint8 prior to saving to suppress this warning.\n",
      "/home/smith/anaconda3/envs/dfp/lib/python3.7/site-packages/ipykernel_launcher.py:57: UserWarning: /d2/studies/TF2DeepFloorplan/dataset/results/70_bounds.png is a low contrast image\n",
      "Lossy conversion from float64 to uint8. Range [0, 1]. Convert image to uint8 prior to saving to suppress this warning.\n",
      "/home/smith/anaconda3/envs/dfp/lib/python3.7/site-packages/ipykernel_launcher.py:57: UserWarning: /d2/studies/TF2DeepFloorplan/dataset/results/70_image.png is a low contrast image\n",
      "Lossy conversion from float64 to uint8. Range [0, 1]. Convert image to uint8 prior to saving to suppress this warning.\n"
     ]
    },
    {
     "name": "stdout",
     "output_type": "stream",
     "text": [
      "Saving 42th refined room prediciton to /d2/studies/TF2DeepFloorplan/dataset/results/70.png\n",
      "Saving 43th refined room prediciton to /d2/studies/TF2DeepFloorplan/dataset/results/70_bounds.png\n",
      "Saving 44th refined room prediciton to /d2/studies/TF2DeepFloorplan/dataset/results/70_image.png\n"
     ]
    }
   ],
   "source": [
    "post_process(input_dir, save_dir, merge=True)"
   ]
  },
  {
   "cell_type": "code",
   "execution_count": null,
   "metadata": {},
   "outputs": [],
   "source": []
  }
 ],
 "metadata": {
  "kernelspec": {
   "display_name": "Python 3",
   "language": "python",
   "name": "python3"
  },
  "language_info": {
   "codemirror_mode": {
    "name": "ipython",
    "version": 3
   },
   "file_extension": ".py",
   "mimetype": "text/x-python",
   "name": "python",
   "nbconvert_exporter": "python",
   "pygments_lexer": "ipython3",
   "version": "3.7.4"
  }
 },
 "nbformat": 4,
 "nbformat_minor": 4
}
