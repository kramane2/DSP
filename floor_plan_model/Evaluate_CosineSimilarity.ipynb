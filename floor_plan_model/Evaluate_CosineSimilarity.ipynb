{
 "cells": [
  {
   "cell_type": "code",
   "execution_count": null,
   "metadata": {},
   "outputs": [],
   "source": [
    "import numpy as np\n",
    "#from scipy.misc import imread, imsave, imresize\n",
    "from skimage.io import imread, imsave\n",
    "from skimage.transform import resize as imresize\n",
    "from scipy.spatial.distance import cosine\n",
    "import os\n",
    "import sys\n",
    "import glob\n",
    "import time\n",
    "import pandas as pd\n",
    "#sys.path.append('./utils/')\n",
    "from utils.rgb_ind_convertor import *"
   ]
  },
  {
   "cell_type": "code",
   "execution_count": null,
   "metadata": {},
   "outputs": [],
   "source": [
    "baseDirectory = '/d2/studies/TF2DeepFloorplan/'\n",
    "benchmark_path='/d2/studies/TF2DeepFloorplan/dataset/r3d_train.txt'\n",
    "result_dir='/d2/studies/TF2DeepFloorplan/outJan14_TFR3_5/50/' #change this to outdir of training\n",
    "num_of_classes=11"
   ]
  },
  {
   "cell_type": "code",
   "execution_count": null,
   "metadata": {},
   "outputs": [],
   "source": [
    "def evaluate_cosine(benchmark_path, result_dir, num_of_classes=11, im_resize=True, gt_resize=True, train=False):\n",
    "    \"\"\"\n",
    "\n",
    "    Parameters\n",
    "    ----------\n",
    "    benchmark_path : string\n",
    "        Path to .txt file containing dataset paths.\n",
    "    result_dir : string\n",
    "        Directory containing result images to evaluate.\n",
    "    num_of_classes : int, optional\n",
    "        Number of room classes. The default is 11.\n",
    "    im_resize : boolean, optional\n",
    "        Whether to resize result images to 512x512. The default is True.\n",
    "    gt_resize : boolean, optional\n",
    "        Whether to resize ground truth images to 512x512. The default is True.\n",
    "    train : boolean, optional\n",
    "        Whether to evaluate training data or test data. The default is False.\n",
    "\n",
    "    Returns\n",
    "    -------\n",
    "    None.\n",
    "\n",
    "    \"\"\"\n",
    "    gt_paths = open(benchmark_path, 'r').read().splitlines()\n",
    "    d_paths = [p.split('\\t')[2] for p in gt_paths] # 1 denote wall, 2 denote door, 3 denote room\n",
    "    r_paths = [p.split('\\t')[3] for p in gt_paths] # 1 denote wall, 2 denote door, 3 denote room\n",
    "    cw_paths = [p.split('\\t')[-1] for p in gt_paths] # 1 denote wall, 2 denote door, 3 denote room, last one denote close wall\n",
    "    im_names = [p.split('/')[-1].split('.')[0] for p in gt_paths]\n",
    "    im_paths = [os.path.join(result_dir, p.split('/')[-1].split('.')[0] + '_pred.png') for p in r_paths]\n",
    "    data_dir = os.path.dirname(benchmark_path)\n",
    "    sims=[]\n",
    "    names = []\n",
    "    for i in range(len(im_paths)):\n",
    "        try:\n",
    "            res_im  = imread(im_paths[i], pilmode='RGB')\n",
    "            name = os.path.basename(im_paths[i]).split('_')[0]\n",
    "            if train:\n",
    "                gt_im = imread(os.path.join(data_dir, 'newyork/train/' + name + '_multi.png'), pilmode='RGB')\n",
    "                gt_im_ind = rgb2ind(gt_im, color_map=floorplan_fuse_map) \n",
    "            elif not train:\n",
    "                gt_im = imread(os.path.join(data_dir, 'newyork/test/' + name + '_multi.png'))\n",
    "                gt_im_ind = rgb2ind(im, color_map=floorplan_fuse_map)\n",
    "                \n",
    "            if im_resize:\n",
    "                res_im = imresize(res_im, (512,512,3), mode='constant', cval=0, preserve_range=True)\n",
    "            if gt_resize:\n",
    "                gt_im_ind = imresize(gt_im_ind, (512,512,3), mode='constant', cval=0, preserve_range=True)\n",
    "            res_im_1d = res_im.flatten()\n",
    "            gt_im_1d = gt_im_ind.flatten()\n",
    "            res_im_1d = res_im_1d + 1e-6\n",
    "            gt_im_1d = gt_im_1d + 1e-6\n",
    "            cos = cosine(res_im_1d, gt_im_1d)\n",
    "            sim = 1-cos\n",
    "            print(\"Image \" + str(name) + \" similarity \" + str(sim))\n",
    "            sims.append(sim)\n",
    "            names.append(name)\n",
    "        except FileNotFoundError:\n",
    "            pass\n",
    "    df = pd.DataFrame([names, sims]).T\n",
    "    df.columns=['image', 'similarity']\n",
    "    df.sort_values(by='similarity', inplace=True, ascending=False)\n",
    "    df.reset_index(drop=True, inplace=True)\n",
    "    df.to_csv('Cosine_Similarity_Results.csv')\n",
    "    aveSim = np.mean(sims)\n",
    "    print(\"Average cosine similarity \" + str(aveSim))\n",
    "    return df\n"
   ]
  },
  {
   "cell_type": "code",
   "execution_count": null,
   "metadata": {},
   "outputs": [],
   "source": [
    "evaluate_cosine(benchmark_path, result_dir, num_of_classes=11, im_resize=True, gt_resize=True, train=True)"
   ]
  },
  {
   "cell_type": "code",
   "execution_count": null,
   "metadata": {},
   "outputs": [],
   "source": []
  }
 ],
 "metadata": {
  "kernelspec": {
   "display_name": "Python 3",
   "language": "python",
   "name": "python3"
  },
  "language_info": {
   "codemirror_mode": {
    "name": "ipython",
    "version": 3
   },
   "file_extension": ".py",
   "mimetype": "text/x-python",
   "name": "python",
   "nbconvert_exporter": "python",
   "pygments_lexer": "ipython3",
   "version": "3.7.4"
  }
 },
 "nbformat": 4,
 "nbformat_minor": 4
}
