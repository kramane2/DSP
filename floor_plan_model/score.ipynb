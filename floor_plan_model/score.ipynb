{
 "cells": [
  {
   "cell_type": "code",
   "execution_count": null,
   "metadata": {},
   "outputs": [],
   "source": [
    "import argparse\n",
    "import numpy as np\n",
    "#from scipy.misc import imread, imsave, imresize\n",
    "from skimage.io import imread, imsave\n",
    "from skimage.transform import resize as imresize\n",
    "\n",
    "import os\n",
    "import sys\n",
    "import glob\n",
    "import time\n",
    "\n",
    "#sys.path.append('./utils/')\n",
    "from utils.util import fast_hist\n",
    "from utils.rgb_ind_convertor import *\n"
   ]
  },
  {
   "cell_type": "code",
   "execution_count": null,
   "metadata": {},
   "outputs": [],
   "source": [
    "gt_paths = open(benchmark_path, 'r').read().splitlines()"
   ]
  },
  {
   "cell_type": "code",
   "execution_count": null,
   "metadata": {},
   "outputs": [],
   "source": [
    "#Optional fix file paths if dataset is not one level up from root directory:\n",
    "fixed_paths = []\n",
    "for path in gt_paths:\n",
    "    path.replace('..', <YOURPATHHERE>)\n",
    "    fixed_paths.append(path)\n",
    "    \n",
    "gt_paths = fixed_paths\n",
    "    "
   ]
  },
  {
   "cell_type": "code",
   "execution_count": null,
   "metadata": {},
   "outputs": [],
   "source": [
    "def evaluate_semantic(benchmark_path, result_dir, num_of_classes=11, need_merge_result=False, im_downsample=False, gt_downsample=False):\n",
    "    gt_paths = open(benchmark_path, 'r').read().splitlines()\n",
    "    d_paths = [p.split('\\t')[2] for p in gt_paths] # 1 denote wall, 2 denote door, 3 denote room\n",
    "    r_paths = [p.split('\\t')[3] for p in gt_paths] # 1 denote wall, 2 denote door, 3 denote room\n",
    "    cw_paths = [p.split('\\t')[-1] for p in gt_paths] # 1 denote wall, 2 denote door, 3 denote room, last one denote close wall\n",
    "    im_names = [p.split('/')[-1].split('.')[0] for p in gt_paths]\n",
    "\n",
    "    im_paths = [os.path.join(result_dir, p.split('/')[-1].split('.')[0] + '_pred.png') for p in r_paths]\n",
    "    if need_merge_result:\n",
    "        im_paths = [os.path.join(result_dir+'/room', p.split('/')[-1]) for p in r_paths]\n",
    "        d_paths = [os.path.join(result_dir+'/door', p.split('/')[-1]) for p in d_paths]\n",
    "        im_cw_paths = [os.path.join(result_dir+'/close_wall', p.split('/')[-1]) for p in cw_paths]\n",
    "\n",
    "    n = len(im_paths)\n",
    "\t# n = 1\n",
    "    hist = np.zeros((num_of_classes, num_of_classes))\n",
    "    for i in range(n):\n",
    "        im = imread(im_paths[i], pilmode='RGB')\n",
    "        if need_merge_result:\n",
    "            im_d = imread(im_d_paths[i], pilmode='L')\n",
    "            im_cw = imread(im_cw_paths[i], pilmode='L')\n",
    "\t\t# create fuse semantic label\n",
    "        cw = imread(cw_paths[i], pilmode='L')\n",
    "        dd = imread(d_paths[i], pilmode='L')\n",
    "        rr = imread(r_paths[i], pilmode='RGB')\n",
    "\n",
    "        if im_downsample: #really means resize, not downsample\n",
    "            im = imresize(im, (512, 512, 3), preserve_range=True)\n",
    "            if need_merge_result:\n",
    "                im_d = imresize(im_d, (512, 512), preserve_range=True)\n",
    "                im_cw = imresize(im_cw, (512, 512), preserve_range=True)\n",
    "                im_d = im_d / 255\n",
    "                im_cw = im_cw / 255\n",
    "\n",
    "        if gt_downsample: #really means resize, not downsample\n",
    "            cw = imresize(cw, (512, 512), preserve_range=True)\n",
    "            dd = imresize(dd, (512, 512), preserve_range=True)  \n",
    "            rr = imresize(rr, (512, 512, 3), preserve_range=True)\n",
    "\n",
    "\t\t# normalize\n",
    "        cw = cw / 255\n",
    "        dd = dd / 255\n",
    "\n",
    "        im_ind = rgb2ind(im, color_map=floorplan_fuse_map) \n",
    "        if im_ind.sum()==0:\n",
    "            im_ind = rgb2ind(im+1)\n",
    "        rr_ind = rgb2ind(rr, color_map=floorplan_fuse_map) \n",
    "        if rr_ind.sum()==0:\n",
    "            rr_ind = rgb2ind(rr+1)\n",
    "\n",
    "        if need_merge_result:\n",
    "            im_d  = (im_d>0.5).astype(np.uint8)\n",
    "            im_cw = (im_cw>0.5).astype(np.uint8)\n",
    "            im_ind[im_cw==1] = 10\n",
    "            im_ind[im_d ==1] = 9\n",
    "\n",
    "\t\t# merge the label and produce \n",
    "        cw = (cw>0.5).astype(np.uint8)\n",
    "        dd = (dd>0.5).astype(np.uint8)\n",
    "        rr_ind[cw==1] = 10\n",
    "        rr_ind[dd==1] = 9\n",
    "\n",
    "        name = im_paths[i].split('/')[-1]\n",
    "        r_name = r_paths[i].split('/')[-1]\n",
    "\t\t\n",
    "        print('Evaluating {}(im) <=> {}(gt)...'.format(name, r_name))\n",
    "\n",
    "        hist += fast_hist(im_ind.flatten(), rr_ind.flatten(), num_of_classes)\n",
    "\n",
    "    print('*'*60)\n",
    "\t# overall accuracy\n",
    "    acc = np.diag(hist).sum() / hist.sum()\n",
    "    print('overall accuracy {:.4}'.format(acc))\n",
    "    # per-class accuracy, avoid div zero\n",
    "    acc = np.diag(hist) / (hist.sum(1) + 1e-6)\n",
    "    print('room-type: mean accuracy {:.4}, room-type+bd: mean accuracy {:.4}'.format(np.nanmean(acc[:7]), (np.nansum(acc[:7])+np.nansum(acc[-2:]))/9.))\n",
    "    for t in range(0, acc.shape[0]):\n",
    "        if t not in [7, 8]:\n",
    "            print('room type {}th, accuracy = {:.4}'.format(t, acc[t]))\n",
    "\n",
    "    print('*'*60)\n",
    "\t# per-class IU, avoid div zero\n",
    "    iu = np.diag(hist) / (hist.sum(1) + 1e-6 + hist.sum(0) - np.diag(hist))\n",
    "    print('room-type: mean IoU {:.4}, room-type+bd: mean IoU {:.4}'.format(np.nanmean(iu[:7]), (np.nansum(iu[:7])+np.nansum(iu[-2:]))/9.))\n",
    "    for t in range(iu.shape[0]):\n",
    "        if t not in [7,8]: # ignore class 7 & 8\n",
    "            print('room type {}th, IoU = {:.4}'.format(t, iu[t]))\n"
   ]
  },
  {
   "cell_type": "code",
   "execution_count": null,
   "metadata": {},
   "outputs": [],
   "source": [
    "baseDirectory = '/d2/studies/TF2DeepFloorplan/'\n",
    "benchmark_path='/d2/studies/TF2DeepFloorplan/dataset/r3d_train.txt'\n",
    "result_dir='/d2/studies/TF2DeepFloorplan/outJan14_TFR3_2/60/' #change this to outdir of training\n",
    "num_of_classes=11\n"
   ]
  },
  {
   "cell_type": "code",
   "execution_count": null,
   "metadata": {},
   "outputs": [],
   "source": [
    "evaluate_semantic(benchmark_path, result_dir, num_of_classes=11, need_merge_result=False, im_downsample=False, gt_downsample=False)"
   ]
  },
  {
   "cell_type": "code",
   "execution_count": null,
   "metadata": {},
   "outputs": [],
   "source": []
  }
 ],
 "metadata": {
  "kernelspec": {
   "display_name": "Python 3",
   "language": "python",
   "name": "python3"
  },
  "language_info": {
   "codemirror_mode": {
    "name": "ipython",
    "version": 3
   },
   "file_extension": ".py",
   "mimetype": "text/x-python",
   "name": "python",
   "nbconvert_exporter": "python",
   "pygments_lexer": "ipython3",
   "version": "3.7.4"
  }
 },
 "nbformat": 4,
 "nbformat_minor": 4
}
