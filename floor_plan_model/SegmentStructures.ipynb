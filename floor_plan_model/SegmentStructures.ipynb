{
 "cells": [
  {
   "cell_type": "code",
   "execution_count": 1,
   "metadata": {},
   "outputs": [],
   "source": [
    "import os\n",
    "from skimage.io import imread, imsave\n",
    "from scipy import ndimage\n",
    "import matplotlib.pyplot as plt"
   ]
  },
  {
   "cell_type": "code",
   "execution_count": 2,
   "metadata": {},
   "outputs": [],
   "source": [
    "#Set paths for result directory and image you want to segment\n",
    "resultDirectory = '/d2/studies/TF2DeepFloorplan/segmentedImages/'\n",
    "impath = '/d2/studies/TF2DeepFloorplan/dataset/newyork/train/45741127_close.png'"
   ]
  },
  {
   "cell_type": "code",
   "execution_count": 3,
   "metadata": {},
   "outputs": [],
   "source": [
    "#Load the image\n",
    "im = imread(impath)\n",
    "im = im[:,:,0] #make into 2D rather than 3D image"
   ]
  },
  {
   "cell_type": "code",
   "execution_count": 4,
   "metadata": {},
   "outputs": [
    {
     "name": "stdout",
     "output_type": "stream",
     "text": [
      "10\n"
     ]
    }
   ],
   "source": [
    "#use SciPy ndimage to label/segment continuous structures\n",
    "im_lab, labels = ndimage.label(im)\n",
    "print(labels) #prints the number of segmented structures"
   ]
  },
  {
   "cell_type": "code",
   "execution_count": 5,
   "metadata": {},
   "outputs": [
    {
     "name": "stderr",
     "output_type": "stream",
     "text": [
      "/home/smith/anaconda3/lib/python3.7/site-packages/ipykernel_launcher.py:3: UserWarning: /d2/studies/TF2DeepFloorplan/segmentedImages/45741127_close_segmented.png is a low contrast image\n",
      "  This is separate from the ipykernel package so we can avoid doing imports until\n",
      "Lossy conversion from int32 to uint8. Range [0, 10]. Convert image to uint8 prior to saving to suppress this warning.\n"
     ]
    },
    {
     "data": {
      "text/plain": [
       "<matplotlib.image.AxesImage at 0x7fd5354cc610>"
      ]
     },
     "execution_count": 5,
     "metadata": {},
     "output_type": "execute_result"
    },
    {
     "data": {
      "image/png": "[encoded data removed]",
      "text/plain": [
       "<Figure size 432x288 with 1 Axes>"
      ]
     },
     "metadata": {
      "needs_background": "light"
     },
     "output_type": "display_data"
    }
   ],
   "source": [
    "#Save/view result\n",
    "fname = impath.split('/')[-1].strip('.png')\n",
    "imsave(os.path.join(resultDirectory, fname + '_segmented.png'), im_lab)\n",
    "plt.imshow(im_lab)\n"
   ]
  },
  {
   "cell_type": "code",
   "execution_count": null,
   "metadata": {},
   "outputs": [],
   "source": []
  }
 ],
 "metadata": {
  "kernelspec": {
   "display_name": "Python 3",
   "language": "python",
   "name": "python3"
  },
  "language_info": {
   "codemirror_mode": {
    "name": "ipython",
    "version": 3
   },
   "file_extension": ".py",
   "mimetype": "text/x-python",
   "name": "python",
   "nbconvert_exporter": "python",
   "pygments_lexer": "ipython3",
   "version": "3.7.8"
  }
 },
 "nbformat": 4,
 "nbformat_minor": 4
}
